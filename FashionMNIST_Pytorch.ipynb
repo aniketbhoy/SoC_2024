{
  "nbformat": 4,
  "nbformat_minor": 0,
  "metadata": {
    "colab": {
      "provenance": [],
      "authorship_tag": "ABX9TyMZPT7gJ8QeBUyeA0fKtwqs",
      "include_colab_link": true
    },
    "kernelspec": {
      "name": "python3",
      "display_name": "Python 3"
    },
    "language_info": {
      "name": "python"
    }
  },
  "cells": [
    {
      "cell_type": "markdown",
      "metadata": {
        "id": "view-in-github",
        "colab_type": "text"
      },
      "source": [
        "<a href=\"https://colab.research.google.com/github/aniketbhoy/SoC_2024/blob/main/FashionMNIST_Pytorch.ipynb\" target=\"_parent\"><img src=\"https://colab.research.google.com/assets/colab-badge.svg\" alt=\"Open In Colab\"/></a>"
      ]
    },
    {
      "cell_type": "code",
      "execution_count": 1,
      "metadata": {
        "id": "1cmZKYnWPkqq"
      },
      "outputs": [],
      "source": [
        "import torch, torchvision\n",
        "import torch.nn as nn\n",
        "import torch.nn.functional as F\n",
        "from torch.utils.data import DataLoader\n",
        "from torchvision import datasets, transforms\n",
        "from torchvision.utils import make_grid\n",
        "import matplotlib.pyplot as plt\n",
        "import numpy as np\n",
        "import pandas as pd\n",
        "from sklearn.metrics import confusion_matrix\n",
        "import matplotlib.pyplot as plt\n",
        "%matplotlib inline"
      ]
    },
    {
      "cell_type": "code",
      "source": [
        "transform = transforms.ToTensor()"
      ],
      "metadata": {
        "id": "m3IPZe95PtHM"
      },
      "execution_count": 2,
      "outputs": []
    },
    {
      "cell_type": "code",
      "source": [
        "train_data = datasets.FashionMNIST(root='data', train=True, download=True, transform=transform)\n",
        "test_data = datasets.FashionMNIST(root='data', train=False, download=True, transform=transform)"
      ],
      "metadata": {
        "colab": {
          "base_uri": "https://localhost:8080/"
        },
        "id": "327KJCcUPvNr",
        "outputId": "23c38dbd-a318-4bae-b62f-4581f7e36924"
      },
      "execution_count": 3,
      "outputs": [
        {
          "output_type": "stream",
          "name": "stdout",
          "text": [
            "Downloading http://fashion-mnist.s3-website.eu-central-1.amazonaws.com/train-images-idx3-ubyte.gz\n",
            "Downloading http://fashion-mnist.s3-website.eu-central-1.amazonaws.com/train-images-idx3-ubyte.gz to data/FashionMNIST/raw/train-images-idx3-ubyte.gz\n"
          ]
        },
        {
          "output_type": "stream",
          "name": "stderr",
          "text": [
            "100%|██████████| 26421880/26421880 [00:01<00:00, 18901463.42it/s]\n"
          ]
        },
        {
          "output_type": "stream",
          "name": "stdout",
          "text": [
            "Extracting data/FashionMNIST/raw/train-images-idx3-ubyte.gz to data/FashionMNIST/raw\n",
            "\n",
            "Downloading http://fashion-mnist.s3-website.eu-central-1.amazonaws.com/train-labels-idx1-ubyte.gz\n",
            "Downloading http://fashion-mnist.s3-website.eu-central-1.amazonaws.com/train-labels-idx1-ubyte.gz to data/FashionMNIST/raw/train-labels-idx1-ubyte.gz\n"
          ]
        },
        {
          "output_type": "stream",
          "name": "stderr",
          "text": [
            "100%|██████████| 29515/29515 [00:00<00:00, 336749.61it/s]\n"
          ]
        },
        {
          "output_type": "stream",
          "name": "stdout",
          "text": [
            "Extracting data/FashionMNIST/raw/train-labels-idx1-ubyte.gz to data/FashionMNIST/raw\n",
            "\n",
            "Downloading http://fashion-mnist.s3-website.eu-central-1.amazonaws.com/t10k-images-idx3-ubyte.gz\n",
            "Downloading http://fashion-mnist.s3-website.eu-central-1.amazonaws.com/t10k-images-idx3-ubyte.gz to data/FashionMNIST/raw/t10k-images-idx3-ubyte.gz\n"
          ]
        },
        {
          "output_type": "stream",
          "name": "stderr",
          "text": [
            "100%|██████████| 4422102/4422102 [00:00<00:00, 5477672.50it/s]\n"
          ]
        },
        {
          "output_type": "stream",
          "name": "stdout",
          "text": [
            "Extracting data/FashionMNIST/raw/t10k-images-idx3-ubyte.gz to data/FashionMNIST/raw\n",
            "\n",
            "Downloading http://fashion-mnist.s3-website.eu-central-1.amazonaws.com/t10k-labels-idx1-ubyte.gz\n",
            "Downloading http://fashion-mnist.s3-website.eu-central-1.amazonaws.com/t10k-labels-idx1-ubyte.gz to data/FashionMNIST/raw/t10k-labels-idx1-ubyte.gz\n"
          ]
        },
        {
          "output_type": "stream",
          "name": "stderr",
          "text": [
            "100%|██████████| 5148/5148 [00:00<00:00, 13648721.23it/s]\n"
          ]
        },
        {
          "output_type": "stream",
          "name": "stdout",
          "text": [
            "Extracting data/FashionMNIST/raw/t10k-labels-idx1-ubyte.gz to data/FashionMNIST/raw\n",
            "\n"
          ]
        }
      ]
    },
    {
      "cell_type": "code",
      "source": [
        "train_loader = DataLoader(train_data, batch_size=10, shuffle=True)\n",
        "test_loader = DataLoader(test_data, batch_size=10, shuffle=True)"
      ],
      "metadata": {
        "id": "NNR39u9SRkG6"
      },
      "execution_count": 4,
      "outputs": []
    },
    {
      "cell_type": "code",
      "source": [
        "train_data.classes"
      ],
      "metadata": {
        "colab": {
          "base_uri": "https://localhost:8080/"
        },
        "id": "nl4HsDJjUadX",
        "outputId": "2ad0876d-a369-461a-c60b-901ba6f9a190"
      },
      "execution_count": 5,
      "outputs": [
        {
          "output_type": "execute_result",
          "data": {
            "text/plain": [
              "['T-shirt/top',\n",
              " 'Trouser',\n",
              " 'Pullover',\n",
              " 'Dress',\n",
              " 'Coat',\n",
              " 'Sandal',\n",
              " 'Shirt',\n",
              " 'Sneaker',\n",
              " 'Bag',\n",
              " 'Ankle boot']"
            ]
          },
          "metadata": {},
          "execution_count": 5
        }
      ]
    },
    {
      "cell_type": "code",
      "source": [
        "conv1 = nn.Conv2d(1,6,3,1)\n",
        "conv2 = nn.Conv2d(6,16,3,1)"
      ],
      "metadata": {
        "id": "7IG4gaJURqQC"
      },
      "execution_count": 6,
      "outputs": []
    },
    {
      "cell_type": "code",
      "source": [
        "for i, (X_train, y_train) in enumerate(train_data):\n",
        "    break"
      ],
      "metadata": {
        "id": "VW33GWH6Rt4F"
      },
      "execution_count": 7,
      "outputs": []
    },
    {
      "cell_type": "code",
      "source": [
        "X_train.shape"
      ],
      "metadata": {
        "colab": {
          "base_uri": "https://localhost:8080/"
        },
        "id": "YSJqb3jIRy1z",
        "outputId": "fb856570-bf93-4d90-a686-55c1c38e7ff0"
      },
      "execution_count": 8,
      "outputs": [
        {
          "output_type": "execute_result",
          "data": {
            "text/plain": [
              "torch.Size([1, 28, 28])"
            ]
          },
          "metadata": {},
          "execution_count": 8
        }
      ]
    },
    {
      "cell_type": "code",
      "source": [
        "x = X_train.view(1,1,28,28)"
      ],
      "metadata": {
        "id": "Ru7OxDqER16k"
      },
      "execution_count": 9,
      "outputs": []
    },
    {
      "cell_type": "code",
      "source": [
        "x = F.relu(conv1(x))"
      ],
      "metadata": {
        "id": "Wq0wYcppR2dn"
      },
      "execution_count": 10,
      "outputs": []
    },
    {
      "cell_type": "code",
      "source": [
        "x.shape"
      ],
      "metadata": {
        "colab": {
          "base_uri": "https://localhost:8080/"
        },
        "id": "JdDTi_TuR49u",
        "outputId": "8faa09d0-4b99-41b5-ab75-ab9526ef3062"
      },
      "execution_count": 11,
      "outputs": [
        {
          "output_type": "execute_result",
          "data": {
            "text/plain": [
              "torch.Size([1, 6, 26, 26])"
            ]
          },
          "metadata": {},
          "execution_count": 11
        }
      ]
    },
    {
      "cell_type": "code",
      "source": [
        "x = F.max_pool2d(x,2,2)\n",
        "x.shape"
      ],
      "metadata": {
        "colab": {
          "base_uri": "https://localhost:8080/"
        },
        "id": "JZsmbklWR6i3",
        "outputId": "b78b1e7f-fdbb-4222-8d64-d15be5365a1d"
      },
      "execution_count": 12,
      "outputs": [
        {
          "output_type": "execute_result",
          "data": {
            "text/plain": [
              "torch.Size([1, 6, 13, 13])"
            ]
          },
          "metadata": {},
          "execution_count": 12
        }
      ]
    },
    {
      "cell_type": "code",
      "source": [
        "x = F.relu(conv2(x))\n",
        "x.shape"
      ],
      "metadata": {
        "colab": {
          "base_uri": "https://localhost:8080/"
        },
        "id": "LsMfe6K0R8hq",
        "outputId": "238889db-e599-45b8-fddf-a02b686ac952"
      },
      "execution_count": 13,
      "outputs": [
        {
          "output_type": "execute_result",
          "data": {
            "text/plain": [
              "torch.Size([1, 16, 11, 11])"
            ]
          },
          "metadata": {},
          "execution_count": 13
        }
      ]
    },
    {
      "cell_type": "code",
      "source": [
        "x = F.max_pool2d(x,2,2)\n",
        "x.shape"
      ],
      "metadata": {
        "colab": {
          "base_uri": "https://localhost:8080/"
        },
        "id": "QMOofPaRR-Zm",
        "outputId": "0e717e58-e632-4e90-9f94-43e9d5403235"
      },
      "execution_count": 14,
      "outputs": [
        {
          "output_type": "execute_result",
          "data": {
            "text/plain": [
              "torch.Size([1, 16, 5, 5])"
            ]
          },
          "metadata": {},
          "execution_count": 14
        }
      ]
    },
    {
      "cell_type": "markdown",
      "source": [
        "#Model:\n",
        "convlayer1 -> poolinglayer1 -> convlayer2 -> poolinglayer2 -> fc1 -> fc2 -> fc3"
      ],
      "metadata": {
        "id": "ryqEQRXXebbk"
      }
    },
    {
      "cell_type": "code",
      "source": [
        "class ConvolutionalNetwork(nn.Module):\n",
        "  def __init__(self):\n",
        "    super().__init__()\n",
        "    self.conv1 = nn.Conv2d(1,6,3,1)\n",
        "    self.conv2 = nn.Conv2d(6,16,3,1)\n",
        "    self.fc1 = nn.Linear(5*5*16,120)\n",
        "    self.fc2 = nn.Linear(120,84)\n",
        "    self.fc3 = nn.Linear(84,10)\n",
        "\n",
        "  def forward(self,X):\n",
        "    X = F.relu(self.conv1(X))\n",
        "    X = F.max_pool2d(X,2,2)\n",
        "    X = F.relu(self.conv2(X))\n",
        "    X = F.max_pool2d(X,2,2)\n",
        "    X = X.view(-1,5*5*16)\n",
        "    X = F.relu(self.fc1(X))\n",
        "    X = F.relu(self.fc2(X))\n",
        "    X = self.fc3(X)\n",
        "    return F.log_softmax(X,dim=1)"
      ],
      "metadata": {
        "id": "phpvAKqfSBVY"
      },
      "execution_count": 15,
      "outputs": []
    },
    {
      "cell_type": "code",
      "source": [
        "torch.manual_seed(41)\n",
        "model = ConvolutionalNetwork()\n",
        "model"
      ],
      "metadata": {
        "colab": {
          "base_uri": "https://localhost:8080/"
        },
        "id": "WBGpu11CSEes",
        "outputId": "dfface52-79f2-4aa1-9ebe-8f3a96209171"
      },
      "execution_count": 16,
      "outputs": [
        {
          "output_type": "execute_result",
          "data": {
            "text/plain": [
              "ConvolutionalNetwork(\n",
              "  (conv1): Conv2d(1, 6, kernel_size=(3, 3), stride=(1, 1))\n",
              "  (conv2): Conv2d(6, 16, kernel_size=(3, 3), stride=(1, 1))\n",
              "  (fc1): Linear(in_features=400, out_features=120, bias=True)\n",
              "  (fc2): Linear(in_features=120, out_features=84, bias=True)\n",
              "  (fc3): Linear(in_features=84, out_features=10, bias=True)\n",
              ")"
            ]
          },
          "metadata": {},
          "execution_count": 16
        }
      ]
    },
    {
      "cell_type": "code",
      "source": [
        "criterion = nn.CrossEntropyLoss()\n",
        "optimizer = torch.optim.Adam(model.parameters(), lr=0.001)"
      ],
      "metadata": {
        "id": "AS7CAFhpSGxr"
      },
      "execution_count": 17,
      "outputs": []
    },
    {
      "cell_type": "code",
      "source": [
        "import time\n",
        "start_time = time.time()\n",
        "\n",
        "epochs = 10\n",
        "train_losses = []\n",
        "test_losses = []\n",
        "train_correct = []\n",
        "test_correct = []\n",
        "\n",
        "for i in range(epochs):\n",
        "  trn_corr = 0\n",
        "  tst_corr = 0\n",
        "\n",
        "\n",
        "  for b,(X_train, y_train) in enumerate(train_loader):\n",
        "    b+=1\n",
        "    y_pred = model(X_train)\n",
        "    loss = criterion(y_pred, y_train)\n",
        "\n",
        "    predicted = torch.max(y_pred.data, 1)[1]\n",
        "    batch_corr = (predicted == y_train).sum()\n",
        "    trn_corr += batch_corr\n",
        "\n",
        "\n",
        "    optimizer.zero_grad()\n",
        "    loss.backward()\n",
        "    optimizer.step()\n",
        "\n",
        "\n",
        "    if b%600 == 0:\n",
        "      print(f'Epoch: {i}  Batch: {b}  Loss: {loss.item()}')\n",
        "\n",
        "  train_losses.append(loss)\n",
        "  train_correct.append(trn_corr)\n",
        "\n",
        "  with torch.no_grad():\n",
        "    for b,(X_test, y_test) in enumerate(test_loader):\n",
        "      y_val = model(X_test)\n",
        "      predicted = torch.max(y_val.data, 1)[1]\n",
        "      tst_corr += (predicted == y_test).sum()\n",
        "\n",
        "  loss = criterion(y_val, y_test)\n",
        "  test_losses.append(loss)\n",
        "  test_correct.append(tst_corr)\n",
        "\n",
        "current_time = time.time()\n",
        "total = current_time - start_time\n",
        "print(f'Training time: {total/60} minutes')"
      ],
      "metadata": {
        "colab": {
          "base_uri": "https://localhost:8080/"
        },
        "id": "Up1GZLSUSI-1",
        "outputId": "d4bb174b-d5c5-4dca-ac05-42349c308474"
      },
      "execution_count": 18,
      "outputs": [
        {
          "output_type": "stream",
          "name": "stdout",
          "text": [
            "Epoch: 0  Batch: 600  Loss: 0.6266642808914185\n",
            "Epoch: 0  Batch: 1200  Loss: 0.35176321864128113\n",
            "Epoch: 0  Batch: 1800  Loss: 0.13981249928474426\n",
            "Epoch: 0  Batch: 2400  Loss: 0.43956613540649414\n",
            "Epoch: 0  Batch: 3000  Loss: 0.4174361824989319\n",
            "Epoch: 0  Batch: 3600  Loss: 0.5050423741340637\n",
            "Epoch: 0  Batch: 4200  Loss: 0.4322306215763092\n",
            "Epoch: 0  Batch: 4800  Loss: 0.41033488512039185\n",
            "Epoch: 0  Batch: 5400  Loss: 0.06023687869310379\n",
            "Epoch: 0  Batch: 6000  Loss: 0.43920794129371643\n",
            "Epoch: 1  Batch: 600  Loss: 0.2726040482521057\n",
            "Epoch: 1  Batch: 1200  Loss: 0.38752150535583496\n",
            "Epoch: 1  Batch: 1800  Loss: 0.6071909666061401\n",
            "Epoch: 1  Batch: 2400  Loss: 0.6511020660400391\n",
            "Epoch: 1  Batch: 3000  Loss: 0.18056049942970276\n",
            "Epoch: 1  Batch: 3600  Loss: 0.20042219758033752\n",
            "Epoch: 1  Batch: 4200  Loss: 0.12877795100212097\n",
            "Epoch: 1  Batch: 4800  Loss: 0.1349291354417801\n",
            "Epoch: 1  Batch: 5400  Loss: 0.3586387634277344\n",
            "Epoch: 1  Batch: 6000  Loss: 0.2830290198326111\n",
            "Epoch: 2  Batch: 600  Loss: 0.3545258641242981\n",
            "Epoch: 2  Batch: 1200  Loss: 0.801990807056427\n",
            "Epoch: 2  Batch: 1800  Loss: 0.11922506988048553\n",
            "Epoch: 2  Batch: 2400  Loss: 0.04724503308534622\n",
            "Epoch: 2  Batch: 3000  Loss: 0.03798821195960045\n",
            "Epoch: 2  Batch: 3600  Loss: 0.10229960829019547\n",
            "Epoch: 2  Batch: 4200  Loss: 0.15966105461120605\n",
            "Epoch: 2  Batch: 4800  Loss: 0.07487615197896957\n",
            "Epoch: 2  Batch: 5400  Loss: 0.16059990227222443\n",
            "Epoch: 2  Batch: 6000  Loss: 0.12477276474237442\n",
            "Epoch: 3  Batch: 600  Loss: 0.05987854674458504\n",
            "Epoch: 3  Batch: 1200  Loss: 0.4399857521057129\n",
            "Epoch: 3  Batch: 1800  Loss: 0.25573787093162537\n",
            "Epoch: 3  Batch: 2400  Loss: 0.16778680682182312\n",
            "Epoch: 3  Batch: 3000  Loss: 0.1998128890991211\n",
            "Epoch: 3  Batch: 3600  Loss: 0.1020057201385498\n",
            "Epoch: 3  Batch: 4200  Loss: 1.1844947338104248\n",
            "Epoch: 3  Batch: 4800  Loss: 0.21735577285289764\n",
            "Epoch: 3  Batch: 5400  Loss: 0.12099294364452362\n",
            "Epoch: 3  Batch: 6000  Loss: 0.3835203945636749\n",
            "Epoch: 4  Batch: 600  Loss: 0.5030279755592346\n",
            "Epoch: 4  Batch: 1200  Loss: 0.07068978250026703\n",
            "Epoch: 4  Batch: 1800  Loss: 0.5814719200134277\n",
            "Epoch: 4  Batch: 2400  Loss: 0.7557979226112366\n",
            "Epoch: 4  Batch: 3000  Loss: 0.23697006702423096\n",
            "Epoch: 4  Batch: 3600  Loss: 0.10826252400875092\n",
            "Epoch: 4  Batch: 4200  Loss: 0.026489466428756714\n",
            "Epoch: 4  Batch: 4800  Loss: 0.09130315482616425\n",
            "Epoch: 4  Batch: 5400  Loss: 0.16507884860038757\n",
            "Epoch: 4  Batch: 6000  Loss: 0.08984032273292542\n",
            "Epoch: 5  Batch: 600  Loss: 0.28315970301628113\n",
            "Epoch: 5  Batch: 1200  Loss: 0.07268746197223663\n",
            "Epoch: 5  Batch: 1800  Loss: 0.013244706206023693\n",
            "Epoch: 5  Batch: 2400  Loss: 0.0683329775929451\n",
            "Epoch: 5  Batch: 3000  Loss: 0.3002299666404724\n",
            "Epoch: 5  Batch: 3600  Loss: 0.15676917135715485\n",
            "Epoch: 5  Batch: 4200  Loss: 0.08679202944040298\n",
            "Epoch: 5  Batch: 4800  Loss: 0.06601359695196152\n",
            "Epoch: 5  Batch: 5400  Loss: 0.3187214732170105\n",
            "Epoch: 5  Batch: 6000  Loss: 0.33981671929359436\n",
            "Epoch: 6  Batch: 600  Loss: 0.0470455028116703\n",
            "Epoch: 6  Batch: 1200  Loss: 0.29330623149871826\n",
            "Epoch: 6  Batch: 1800  Loss: 0.12103208154439926\n",
            "Epoch: 6  Batch: 2400  Loss: 0.15275056660175323\n",
            "Epoch: 6  Batch: 3000  Loss: 0.5921159386634827\n",
            "Epoch: 6  Batch: 3600  Loss: 0.5450536012649536\n",
            "Epoch: 6  Batch: 4200  Loss: 0.25072169303894043\n",
            "Epoch: 6  Batch: 4800  Loss: 0.06063135340809822\n",
            "Epoch: 6  Batch: 5400  Loss: 0.1903647780418396\n",
            "Epoch: 6  Batch: 6000  Loss: 0.07471124082803726\n",
            "Epoch: 7  Batch: 600  Loss: 0.0411737859249115\n",
            "Epoch: 7  Batch: 1200  Loss: 0.04948849603533745\n",
            "Epoch: 7  Batch: 1800  Loss: 0.029223507270216942\n",
            "Epoch: 7  Batch: 2400  Loss: 0.44255632162094116\n",
            "Epoch: 7  Batch: 3000  Loss: 0.3203670382499695\n",
            "Epoch: 7  Batch: 3600  Loss: 0.020890889689326286\n",
            "Epoch: 7  Batch: 4200  Loss: 0.5624213218688965\n",
            "Epoch: 7  Batch: 4800  Loss: 0.18983487784862518\n",
            "Epoch: 7  Batch: 5400  Loss: 0.1430334895849228\n",
            "Epoch: 7  Batch: 6000  Loss: 0.07574449479579926\n",
            "Epoch: 8  Batch: 600  Loss: 0.5427371859550476\n",
            "Epoch: 8  Batch: 1200  Loss: 0.00012792230700142682\n",
            "Epoch: 8  Batch: 1800  Loss: 0.5530633926391602\n",
            "Epoch: 8  Batch: 2400  Loss: 0.0447099506855011\n",
            "Epoch: 8  Batch: 3000  Loss: 0.6111466884613037\n",
            "Epoch: 8  Batch: 3600  Loss: 0.15560182929039001\n",
            "Epoch: 8  Batch: 4200  Loss: 0.3937206566333771\n",
            "Epoch: 8  Batch: 4800  Loss: 0.082577183842659\n",
            "Epoch: 8  Batch: 5400  Loss: 0.6077117323875427\n",
            "Epoch: 8  Batch: 6000  Loss: 0.1059737578034401\n",
            "Epoch: 9  Batch: 600  Loss: 0.23306791484355927\n",
            "Epoch: 9  Batch: 1200  Loss: 0.04101436957716942\n",
            "Epoch: 9  Batch: 1800  Loss: 0.08787153661251068\n",
            "Epoch: 9  Batch: 2400  Loss: 0.18673460185527802\n",
            "Epoch: 9  Batch: 3000  Loss: 0.3058202564716339\n",
            "Epoch: 9  Batch: 3600  Loss: 0.028096210211515427\n",
            "Epoch: 9  Batch: 4200  Loss: 0.09051883965730667\n",
            "Epoch: 9  Batch: 4800  Loss: 0.046976327896118164\n",
            "Epoch: 9  Batch: 5400  Loss: 0.661815881729126\n",
            "Epoch: 9  Batch: 6000  Loss: 0.11567209661006927\n",
            "Training time: 8.19574150244395 minutes\n"
          ]
        }
      ]
    },
    {
      "cell_type": "code",
      "source": [
        "#Train accuracy with each epoch\n",
        "for i in train_correct:\n",
        "  print(i.item()/60000*100)"
      ],
      "metadata": {
        "colab": {
          "base_uri": "https://localhost:8080/"
        },
        "id": "ngnmeGizP4tl",
        "outputId": "efb171c9-251e-4601-96ba-58c938154cee"
      },
      "execution_count": 19,
      "outputs": [
        {
          "output_type": "stream",
          "name": "stdout",
          "text": [
            "80.475\n",
            "87.01666666666667\n",
            "88.81166666666667\n",
            "90.05\n",
            "90.85666666666667\n",
            "91.26666666666667\n",
            "91.77\n",
            "92.25999999999999\n",
            "92.71666666666667\n",
            "92.90833333333333\n"
          ]
        }
      ]
    },
    {
      "cell_type": "code",
      "source": [
        "#Test accuracy with each epoch\n",
        "for i in test_correct:\n",
        "  print(i.item()/10000*100)"
      ],
      "metadata": {
        "colab": {
          "base_uri": "https://localhost:8080/"
        },
        "id": "lSIW4dRDRMJN",
        "outputId": "e8c1ac1c-5a0f-4b5a-f662-bea1f47f10fe"
      },
      "execution_count": 20,
      "outputs": [
        {
          "output_type": "stream",
          "name": "stdout",
          "text": [
            "85.15\n",
            "88.0\n",
            "88.66000000000001\n",
            "88.61\n",
            "88.99000000000001\n",
            "89.08\n",
            "89.58\n",
            "90.24\n",
            "90.63\n",
            "90.42\n"
          ]
        }
      ]
    },
    {
      "cell_type": "code",
      "source": [
        "y_true = []\n",
        "y_pred = []\n",
        "\n",
        "with torch.no_grad():\n",
        "    for X_test, y_test in test_loader:\n",
        "        y_val = model(X_test)\n",
        "        predicted = torch.max(y_val, 1)[1]\n",
        "        y_true.extend(y_test.tolist())\n",
        "        y_pred.extend(predicted.tolist())\n",
        "\n",
        "cm = confusion_matrix(y_true, y_pred)\n",
        "class_accuracy = (cm.diagonal()/cm.sum(axis=1))*100\n",
        "class_labels = train_data.classes\n",
        "for i, acc in enumerate(class_accuracy):\n",
        "    print(f'Class {class_labels[i]}: Accuracy: {acc:.2f}')"
      ],
      "metadata": {
        "colab": {
          "base_uri": "https://localhost:8080/"
        },
        "id": "gUUgxxArl4Y9",
        "outputId": "c79ea0b4-86a9-4827-92a1-bc4bee9812f6"
      },
      "execution_count": 21,
      "outputs": [
        {
          "output_type": "stream",
          "name": "stdout",
          "text": [
            "Class T-shirt/top: Accuracy: 88.60\n",
            "Class Trouser: Accuracy: 97.00\n",
            "Class Pullover: Accuracy: 85.30\n",
            "Class Dress: Accuracy: 89.20\n",
            "Class Coat: Accuracy: 83.50\n",
            "Class Sandal: Accuracy: 98.10\n",
            "Class Shirt: Accuracy: 72.50\n",
            "Class Sneaker: Accuracy: 96.00\n",
            "Class Bag: Accuracy: 98.00\n",
            "Class Ankle boot: Accuracy: 96.00\n"
          ]
        }
      ]
    },
    {
      "cell_type": "code",
      "source": [
        "train_losses = [tl.item() for tl in train_losses]\n",
        "plt.plot(train_losses, label=\"Training Loss\")\n",
        "plt.plot(test_losses, label=\"Validation Loss\")\n",
        "plt.title(\"Loss at Epoch\")\n",
        "plt.legend()"
      ],
      "metadata": {
        "colab": {
          "base_uri": "https://localhost:8080/",
          "height": 469
        },
        "id": "9I5M3BV8SMfZ",
        "outputId": "a9627b6d-cdb5-4eb4-9a0c-d47d319b67b1"
      },
      "execution_count": 22,
      "outputs": [
        {
          "output_type": "execute_result",
          "data": {
            "text/plain": [
              "<matplotlib.legend.Legend at 0x79d5ffc9a0b0>"
            ]
          },
          "metadata": {},
          "execution_count": 22
        },
        {
          "output_type": "display_data",
          "data": {
            "text/plain": [
              "<Figure size 640x480 with 1 Axes>"
            ],
            "image/png": "[encoded data removed]"
          },
          "metadata": {}
        }
      ]
    },
    {
      "cell_type": "code",
      "source": [
        "plt.plot([t/600 for t in train_correct], label=\"Training Accuracy\")\n",
        "plt.plot([t/100 for t in test_correct], label=\"Validation Accuracy\")\n",
        "plt.title(\"Accuracy at the end of each Epoch\")\n",
        "plt.legend()"
      ],
      "metadata": {
        "colab": {
          "base_uri": "https://localhost:8080/",
          "height": 469
        },
        "id": "bY5l6x12STmC",
        "outputId": "8898a50e-a820-441d-9b7e-369395e582cd"
      },
      "execution_count": 23,
      "outputs": [
        {
          "output_type": "execute_result",
          "data": {
            "text/plain": [
              "<matplotlib.legend.Legend at 0x79d60091b490>"
            ]
          },
          "metadata": {},
          "execution_count": 23
        },
        {
          "output_type": "display_data",
          "data": {
            "text/plain": [
              "<Figure size 640x480 with 1 Axes>"
            ],
            "image/png": "[encoded data removed]"
          },
          "metadata": {}
        }
      ]
    },
    {
      "cell_type": "code",
      "source": [
        "plt.imshow(test_data[20][0].reshape(28,28))"
      ],
      "metadata": {
        "colab": {
          "base_uri": "https://localhost:8080/",
          "height": 447
        },
        "id": "BzaokhfpTnz-",
        "outputId": "5753ed14-d349-450e-bb2f-6b34735ff126"
      },
      "execution_count": 24,
      "outputs": [
        {
          "output_type": "execute_result",
          "data": {
            "text/plain": [
              "<matplotlib.image.AxesImage at 0x79d6f88570a0>"
            ]
          },
          "metadata": {},
          "execution_count": 24
        },
        {
          "output_type": "display_data",
          "data": {
            "text/plain": [
              "<Figure size 640x480 with 1 Axes>"
            ],
            "image/png": "[encoded data removed]"
          },
          "metadata": {}
        }
      ]
    },
    {
      "cell_type": "code",
      "source": [
        "#Trouser is the second class\n",
        "model.eval()\n",
        "with torch.no_grad():\n",
        "  prediction = model(test_data[20][0].view(1,1,28,28))"
      ],
      "metadata": {
        "id": "MdEDXbOJZgm9"
      },
      "execution_count": 25,
      "outputs": []
    },
    {
      "cell_type": "code",
      "source": [
        "prediction"
      ],
      "metadata": {
        "colab": {
          "base_uri": "https://localhost:8080/"
        },
        "id": "ZEJbWMovZ_k_",
        "outputId": "0c7ca003-1fbe-466a-d87c-981306ac4096"
      },
      "execution_count": 26,
      "outputs": [
        {
          "output_type": "execute_result",
          "data": {
            "text/plain": [
              "tensor([[-4.9637e+00, -2.3389e+01, -7.3442e-03, -1.4936e+01, -1.0143e+01,\n",
              "         -2.4840e+01, -8.1624e+00, -2.3180e+01, -1.2121e+01, -2.7234e+01]])"
            ]
          },
          "metadata": {},
          "execution_count": 26
        }
      ]
    },
    {
      "cell_type": "code",
      "source": [
        "prediction.argmax()"
      ],
      "metadata": {
        "colab": {
          "base_uri": "https://localhost:8080/"
        },
        "id": "_5-IehMqaFmW",
        "outputId": "4df9b790-0613-460c-f97a-c2b59010df22"
      },
      "execution_count": 27,
      "outputs": [
        {
          "output_type": "execute_result",
          "data": {
            "text/plain": [
              "tensor(2)"
            ]
          },
          "metadata": {},
          "execution_count": 27
        }
      ]
    },
    {
      "cell_type": "markdown",
      "source": [
        "#With dropout layer and weight decay"
      ],
      "metadata": {
        "id": "9s-uFQgNgTSJ"
      }
    },
    {
      "cell_type": "code",
      "source": [
        "class ConvolutionalNetwork(nn.Module):\n",
        "  def __init__(self):\n",
        "    super().__init__()\n",
        "    self.conv1 = nn.Conv2d(1,6,3,1)\n",
        "    self.conv2 = nn.Conv2d(6,16,3,1)\n",
        "    self.fc1 = nn.Linear(5*5*16,120)\n",
        "    self.drop = nn.Dropout(0.15)\n",
        "    self.fc2 = nn.Linear(120,84)\n",
        "    self.fc3 = nn.Linear(84,10)\n",
        "\n",
        "  def forward(self,X):\n",
        "    X = F.relu(self.conv1(X))\n",
        "    X = F.max_pool2d(X,2,2)\n",
        "    X = F.relu(self.conv2(X))\n",
        "    X = F.max_pool2d(X,2,2)\n",
        "    X = X.view(-1,5*5*16)\n",
        "    X = F.relu(self.fc1(X))\n",
        "    X = self.drop(X)\n",
        "    X = F.relu(self.fc2(X))\n",
        "    X = self.fc3(X)\n",
        "    return F.log_softmax(X,dim=1)"
      ],
      "metadata": {
        "id": "Rv1TiUDRdvc-"
      },
      "execution_count": 28,
      "outputs": []
    },
    {
      "cell_type": "code",
      "source": [
        "torch.manual_seed(41)\n",
        "model = ConvolutionalNetwork()\n",
        "model"
      ],
      "metadata": {
        "colab": {
          "base_uri": "https://localhost:8080/"
        },
        "id": "CU57iD4HazpE",
        "outputId": "21108bfb-ec5f-4f03-b7f1-9b2db49375ce"
      },
      "execution_count": 29,
      "outputs": [
        {
          "output_type": "execute_result",
          "data": {
            "text/plain": [
              "ConvolutionalNetwork(\n",
              "  (conv1): Conv2d(1, 6, kernel_size=(3, 3), stride=(1, 1))\n",
              "  (conv2): Conv2d(6, 16, kernel_size=(3, 3), stride=(1, 1))\n",
              "  (fc1): Linear(in_features=400, out_features=120, bias=True)\n",
              "  (drop): Dropout2d(p=0.15, inplace=False)\n",
              "  (fc2): Linear(in_features=120, out_features=84, bias=True)\n",
              "  (fc3): Linear(in_features=84, out_features=10, bias=True)\n",
              ")"
            ]
          },
          "metadata": {},
          "execution_count": 29
        }
      ]
    },
    {
      "cell_type": "code",
      "source": [
        "criterion = nn.CrossEntropyLoss()\n",
        "weight_decay = 1e-4\n",
        "optimizer = torch.optim.Adam(model.parameters(), lr=0.001, weight_decay=weight_decay)"
      ],
      "metadata": {
        "id": "j6SguVzNd46C"
      },
      "execution_count": 30,
      "outputs": []
    },
    {
      "cell_type": "code",
      "source": [
        "import time\n",
        "start_time = time.time()\n",
        "\n",
        "epochs = 10\n",
        "train_losses = []\n",
        "test_losses = []\n",
        "train_correct = []\n",
        "test_correct = []\n",
        "\n",
        "for i in range(epochs):\n",
        "  trn_corr = 0\n",
        "  tst_corr = 0\n",
        "\n",
        "  for b,(X_train, y_train) in enumerate(train_loader):\n",
        "    b+=1\n",
        "    y_pred = model(X_train)\n",
        "    loss = criterion(y_pred, y_train)\n",
        "\n",
        "    predicted = torch.max(y_pred.data, 1)[1]\n",
        "    batch_corr = (predicted == y_train).sum()\n",
        "    trn_corr += batch_corr\n",
        "\n",
        "\n",
        "    optimizer.zero_grad()\n",
        "    loss.backward()\n",
        "    optimizer.step()\n",
        "\n",
        "    if b%600 == 0:\n",
        "      print(f'Epoch: {i}  Batch: {b}  Loss: {loss.item()}')\n",
        "\n",
        "  train_losses.append(loss)\n",
        "  train_correct.append(trn_corr)\n",
        "\n",
        "  with torch.no_grad():\n",
        "    for b,(X_test, y_test) in enumerate(test_loader):\n",
        "      y_val = model(X_test)\n",
        "      predicted = torch.max(y_val.data, 1)[1]\n",
        "      tst_corr += (predicted == y_test).sum()\n",
        "\n",
        "\n",
        "  loss = criterion(y_val, y_test)\n",
        "  test_losses.append(loss)\n",
        "  test_correct.append(tst_corr)\n",
        "\n",
        "current_time = time.time()\n",
        "total = current_time - start_time\n",
        "print(f'Training time: {total/60} minutes')"
      ],
      "metadata": {
        "colab": {
          "base_uri": "https://localhost:8080/"
        },
        "id": "4F-L-NZFbW5L",
        "outputId": "e13274ec-ec69-4623-a3e3-c2b968cfd9e3"
      },
      "execution_count": 31,
      "outputs": [
        {
          "output_type": "stream",
          "name": "stderr",
          "text": [
            "/usr/local/lib/python3.10/dist-packages/torch/nn/functional.py:1374: UserWarning: dropout2d: Received a 2-D input to dropout2d, which is deprecated and will result in an error in a future release. To retain the behavior and silence this warning, please use dropout instead. Note that dropout2d exists to provide channel-wise dropout on inputs with 2 spatial dimensions, a channel dimension, and an optional batch dimension (i.e. 3D or 4D inputs).\n",
            "  warnings.warn(warn_msg)\n"
          ]
        },
        {
          "output_type": "stream",
          "name": "stdout",
          "text": [
            "Epoch: 0  Batch: 600  Loss: 0.8956686854362488\n",
            "Epoch: 0  Batch: 1200  Loss: 0.4382217526435852\n",
            "Epoch: 0  Batch: 1800  Loss: 0.15096436440944672\n",
            "Epoch: 0  Batch: 2400  Loss: 0.42155686020851135\n",
            "Epoch: 0  Batch: 3000  Loss: 0.4659806191921234\n",
            "Epoch: 0  Batch: 3600  Loss: 0.5868070721626282\n",
            "Epoch: 0  Batch: 4200  Loss: 0.5287185311317444\n",
            "Epoch: 0  Batch: 4800  Loss: 0.48065632581710815\n",
            "Epoch: 0  Batch: 5400  Loss: 0.10174909979104996\n",
            "Epoch: 0  Batch: 6000  Loss: 0.38965079188346863\n",
            "Epoch: 1  Batch: 600  Loss: 0.24661846458911896\n",
            "Epoch: 1  Batch: 1200  Loss: 1.1009852886199951\n",
            "Epoch: 1  Batch: 1800  Loss: 0.6603546738624573\n",
            "Epoch: 1  Batch: 2400  Loss: 0.401135116815567\n",
            "Epoch: 1  Batch: 3000  Loss: 0.5887269377708435\n",
            "Epoch: 1  Batch: 3600  Loss: 0.271284282207489\n",
            "Epoch: 1  Batch: 4200  Loss: 0.647002100944519\n",
            "Epoch: 1  Batch: 4800  Loss: 0.6456838846206665\n",
            "Epoch: 1  Batch: 5400  Loss: 0.4113314747810364\n",
            "Epoch: 1  Batch: 6000  Loss: 0.336887925863266\n",
            "Epoch: 2  Batch: 600  Loss: 0.3067777156829834\n",
            "Epoch: 2  Batch: 1200  Loss: 0.26502054929733276\n",
            "Epoch: 2  Batch: 1800  Loss: 0.0958617702126503\n",
            "Epoch: 2  Batch: 2400  Loss: 0.1849922388792038\n",
            "Epoch: 2  Batch: 3000  Loss: 0.388700008392334\n",
            "Epoch: 2  Batch: 3600  Loss: 0.001760845654644072\n",
            "Epoch: 2  Batch: 4200  Loss: 0.594048261642456\n",
            "Epoch: 2  Batch: 4800  Loss: 0.2192641794681549\n",
            "Epoch: 2  Batch: 5400  Loss: 0.6490459442138672\n",
            "Epoch: 2  Batch: 6000  Loss: 0.15679024159908295\n",
            "Epoch: 3  Batch: 600  Loss: 0.307699054479599\n",
            "Epoch: 3  Batch: 1200  Loss: 0.20796576142311096\n",
            "Epoch: 3  Batch: 1800  Loss: 0.6153517365455627\n",
            "Epoch: 3  Batch: 2400  Loss: 0.40714526176452637\n",
            "Epoch: 3  Batch: 3000  Loss: 0.11045874655246735\n",
            "Epoch: 3  Batch: 3600  Loss: 0.4581592082977295\n",
            "Epoch: 3  Batch: 4200  Loss: 0.42586207389831543\n",
            "Epoch: 3  Batch: 4800  Loss: 0.18109765648841858\n",
            "Epoch: 3  Batch: 5400  Loss: 0.13329222798347473\n",
            "Epoch: 3  Batch: 6000  Loss: 0.3956443667411804\n",
            "Epoch: 4  Batch: 600  Loss: 0.08554229140281677\n",
            "Epoch: 4  Batch: 1200  Loss: 0.2803124487400055\n",
            "Epoch: 4  Batch: 1800  Loss: 0.04532192274928093\n",
            "Epoch: 4  Batch: 2400  Loss: 0.333746999502182\n",
            "Epoch: 4  Batch: 3000  Loss: 0.03580837696790695\n",
            "Epoch: 4  Batch: 3600  Loss: 0.4394424557685852\n",
            "Epoch: 4  Batch: 4200  Loss: 0.7791206240653992\n",
            "Epoch: 4  Batch: 4800  Loss: 0.2741128206253052\n",
            "Epoch: 4  Batch: 5400  Loss: 0.20789766311645508\n",
            "Epoch: 4  Batch: 6000  Loss: 0.28213566541671753\n",
            "Epoch: 5  Batch: 600  Loss: 0.2168194055557251\n",
            "Epoch: 5  Batch: 1200  Loss: 0.26764190196990967\n",
            "Epoch: 5  Batch: 1800  Loss: 0.08104684203863144\n",
            "Epoch: 5  Batch: 2400  Loss: 0.20684115588665009\n",
            "Epoch: 5  Batch: 3000  Loss: 0.543298602104187\n",
            "Epoch: 5  Batch: 3600  Loss: 0.7814789414405823\n",
            "Epoch: 5  Batch: 4200  Loss: 0.0459476038813591\n",
            "Epoch: 5  Batch: 4800  Loss: 0.2936764359474182\n",
            "Epoch: 5  Batch: 5400  Loss: 0.2569270730018616\n",
            "Epoch: 5  Batch: 6000  Loss: 0.015310058370232582\n",
            "Epoch: 6  Batch: 600  Loss: 0.4503634572029114\n",
            "Epoch: 6  Batch: 1200  Loss: 0.2009972333908081\n",
            "Epoch: 6  Batch: 1800  Loss: 0.49037113785743713\n",
            "Epoch: 6  Batch: 2400  Loss: 0.23849081993103027\n",
            "Epoch: 6  Batch: 3000  Loss: 0.09682760387659073\n",
            "Epoch: 6  Batch: 3600  Loss: 0.24455773830413818\n",
            "Epoch: 6  Batch: 4200  Loss: 0.15597115457057953\n",
            "Epoch: 6  Batch: 4800  Loss: 0.1575796902179718\n",
            "Epoch: 6  Batch: 5400  Loss: 0.014141401275992393\n",
            "Epoch: 6  Batch: 6000  Loss: 0.4219183921813965\n",
            "Epoch: 7  Batch: 600  Loss: 0.5443487167358398\n",
            "Epoch: 7  Batch: 1200  Loss: 0.051973868161439896\n",
            "Epoch: 7  Batch: 1800  Loss: 0.36804789304733276\n",
            "Epoch: 7  Batch: 2400  Loss: 0.043662358075380325\n",
            "Epoch: 7  Batch: 3000  Loss: 0.3029400706291199\n",
            "Epoch: 7  Batch: 3600  Loss: 0.10496386140584946\n",
            "Epoch: 7  Batch: 4200  Loss: 0.14568886160850525\n",
            "Epoch: 7  Batch: 4800  Loss: 0.10474763065576553\n",
            "Epoch: 7  Batch: 5400  Loss: 0.13934744894504547\n",
            "Epoch: 7  Batch: 6000  Loss: 0.08994513750076294\n",
            "Epoch: 8  Batch: 600  Loss: 0.24009688198566437\n",
            "Epoch: 8  Batch: 1200  Loss: 0.11575974524021149\n",
            "Epoch: 8  Batch: 1800  Loss: 0.14527778327465057\n",
            "Epoch: 8  Batch: 2400  Loss: 0.06849662959575653\n",
            "Epoch: 8  Batch: 3000  Loss: 0.1237170547246933\n",
            "Epoch: 8  Batch: 3600  Loss: 0.10670170933008194\n",
            "Epoch: 8  Batch: 4200  Loss: 1.0720627307891846\n",
            "Epoch: 8  Batch: 4800  Loss: 0.36319559812545776\n",
            "Epoch: 8  Batch: 5400  Loss: 0.12278483062982559\n",
            "Epoch: 8  Batch: 6000  Loss: 0.19052574038505554\n",
            "Epoch: 9  Batch: 600  Loss: 0.4422267973423004\n",
            "Epoch: 9  Batch: 1200  Loss: 0.023436419665813446\n",
            "Epoch: 9  Batch: 1800  Loss: 0.11448939889669418\n",
            "Epoch: 9  Batch: 2400  Loss: 0.047458767890930176\n",
            "Epoch: 9  Batch: 3000  Loss: 0.011782708577811718\n",
            "Epoch: 9  Batch: 3600  Loss: 0.022885698825120926\n",
            "Epoch: 9  Batch: 4200  Loss: 0.054938673973083496\n",
            "Epoch: 9  Batch: 4800  Loss: 0.1558101922273636\n",
            "Epoch: 9  Batch: 5400  Loss: 0.684984028339386\n",
            "Epoch: 9  Batch: 6000  Loss: 0.42978572845458984\n",
            "Training time: 10.269802570343018 minutes\n"
          ]
        }
      ]
    },
    {
      "cell_type": "code",
      "source": [
        "#Train accuracy with each epoch\n",
        "for i in train_correct:\n",
        "  print(i.item()/60000*100)"
      ],
      "metadata": {
        "colab": {
          "base_uri": "https://localhost:8080/"
        },
        "id": "dflrxAGEbj5v",
        "outputId": "98fa33e1-9776-4bd3-c603-2915e3d735a4"
      },
      "execution_count": 32,
      "outputs": [
        {
          "output_type": "stream",
          "name": "stdout",
          "text": [
            "79.04166666666667\n",
            "85.96833333333333\n",
            "88.005\n",
            "88.82166666666666\n",
            "89.47500000000001\n",
            "89.97333333333334\n",
            "90.305\n",
            "90.43833333333333\n",
            "90.90666666666667\n",
            "90.91\n"
          ]
        }
      ]
    },
    {
      "cell_type": "code",
      "source": [
        "#Test accuracy with each epoch\n",
        "for i in test_correct:\n",
        "  print(i.item()/10000*100)"
      ],
      "metadata": {
        "colab": {
          "base_uri": "https://localhost:8080/"
        },
        "id": "5IW0uhh-blj4",
        "outputId": "6352164b-0b4e-4d91-a5a7-efc6e4f10252"
      },
      "execution_count": 33,
      "outputs": [
        {
          "output_type": "stream",
          "name": "stdout",
          "text": [
            "84.21\n",
            "86.18\n",
            "87.7\n",
            "89.01\n",
            "88.05\n",
            "88.53999999999999\n",
            "89.25\n",
            "88.86\n",
            "89.16\n",
            "87.9\n"
          ]
        }
      ]
    },
    {
      "cell_type": "code",
      "source": [
        "y_true = []\n",
        "y_pred = []\n",
        "\n",
        "with torch.no_grad():\n",
        "    for X_test, y_test in test_loader:\n",
        "        y_val = model(X_test)\n",
        "        predicted = torch.max(y_val, 1)[1]\n",
        "        y_true.extend(y_test.tolist())\n",
        "        y_pred.extend(predicted.tolist())\n",
        "\n",
        "cm = confusion_matrix(y_true, y_pred)\n",
        "class_accuracy = (cm.diagonal()/cm.sum(axis=1))*100\n",
        "class_labels = train_data.classes\n",
        "for i, accuracy in enumerate(class_accuracy):\n",
        "    print(f'Class {class_labels[i]}, Accuracy: {accuracy:.2f}')"
      ],
      "metadata": {
        "colab": {
          "base_uri": "https://localhost:8080/"
        },
        "id": "tBg1I-Sbh7kS",
        "outputId": "015180e1-c7fe-4ec3-f631-e24585db6e9d"
      },
      "execution_count": 34,
      "outputs": [
        {
          "output_type": "stream",
          "name": "stdout",
          "text": [
            "Class T-shirt/top, Accuracy: 67.00\n",
            "Class Trouser, Accuracy: 97.60\n",
            "Class Pullover, Accuracy: 81.20\n",
            "Class Dress, Accuracy: 91.00\n",
            "Class Coat, Accuracy: 84.50\n",
            "Class Sandal, Accuracy: 95.40\n",
            "Class Shirt, Accuracy: 77.90\n",
            "Class Sneaker, Accuracy: 94.40\n",
            "Class Bag, Accuracy: 96.20\n",
            "Class Ankle boot, Accuracy: 96.90\n"
          ]
        }
      ]
    },
    {
      "cell_type": "code",
      "source": [
        "train_losses = [tl.item() for tl in train_losses]\n",
        "plt.plot(train_losses, label=\"Training Loss\")\n",
        "plt.plot(test_losses, label=\"Validation Loss\")\n",
        "plt.title(\"Loss at Epoch\")\n",
        "plt.legend()"
      ],
      "metadata": {
        "colab": {
          "base_uri": "https://localhost:8080/",
          "height": 469
        },
        "id": "pJHiGiHXn2r6",
        "outputId": "e6505bfe-287d-410e-d837-b00e084a7f8c"
      },
      "execution_count": 35,
      "outputs": [
        {
          "output_type": "execute_result",
          "data": {
            "text/plain": [
              "<matplotlib.legend.Legend at 0x79d5ffaef550>"
            ]
          },
          "metadata": {},
          "execution_count": 35
        },
        {
          "output_type": "display_data",
          "data": {
            "text/plain": [
              "<Figure size 640x480 with 1 Axes>"
            ],
            "image/png": "[encoded data removed]"
          },
          "metadata": {}
        }
      ]
    },
    {
      "cell_type": "code",
      "source": [
        "plt.plot([t/600 for t in train_correct], label=\"Training Accuracy\")\n",
        "plt.plot([t/100 for t in test_correct], label=\"Validation Accuracy\")\n",
        "plt.title(\"Accuracy at the end of each Epoch\")\n",
        "plt.legend()"
      ],
      "metadata": {
        "colab": {
          "base_uri": "https://localhost:8080/",
          "height": 469
        },
        "id": "KfjXdlM-n8xD",
        "outputId": "976cfd59-3154-4db7-f432-d90d2b8ef668"
      },
      "execution_count": 36,
      "outputs": [
        {
          "output_type": "execute_result",
          "data": {
            "text/plain": [
              "<matplotlib.legend.Legend at 0x79d5fd5eebf0>"
            ]
          },
          "metadata": {},
          "execution_count": 36
        },
        {
          "output_type": "display_data",
          "data": {
            "text/plain": [
              "<Figure size 640x480 with 1 Axes>"
            ],
            "image/png": "[encoded data removed]"
          },
          "metadata": {}
        }
      ]
    }
  ]
}